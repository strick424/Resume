{
 "cells": [
  {
   "cell_type": "code",
   "execution_count": 81,
   "metadata": {},
   "outputs": [],
   "source": [
    "import numpy as np\n",
    "import pandas as pd\n",
    "import random\n",
    "import seaborn as sns\n",
    "from datascience import *\n",
    "from scipy import stats\n",
    "from statsmodels.formula.api import ols\n",
    "from scipy.stats import gaussian_kde\n",
    "import scipy.stats\n",
    "import matplotlib\n",
    "%matplotlib inline\n",
    "import matplotlib.pyplot as plt\n",
    "plt.style.use('fivethirtyeight')\n",
    "import warnings\n",
    "warnings.filterwarnings(\"ignore\")"
   ]
  },
  {
   "cell_type": "code",
   "execution_count": 82,
   "metadata": {},
   "outputs": [
    {
     "data": {
      "text/plain": [
       "16.05"
      ]
     },
     "execution_count": 82,
     "metadata": {},
     "output_type": "execute_result"
    }
   ],
   "source": [
    "ecourse = pd.read_csv(\"Historic_Times.csv\")\n",
    "\n",
    "ecourse[ecourse['Gender']=='M']['Time'].min()/60"
   ]
  },
  {
   "cell_type": "code",
   "execution_count": 83,
   "metadata": {},
   "outputs": [
    {
     "data": {
      "text/plain": [
       "13.8"
      ]
     },
     "execution_count": 83,
     "metadata": {},
     "output_type": "execute_result"
    }
   ],
   "source": [
    ".23*60"
   ]
  },
  {
   "cell_type": "code",
   "execution_count": 84,
   "metadata": {},
   "outputs": [
    {
     "data": {
      "text/html": [
       "<div>\n",
       "<style scoped>\n",
       "    .dataframe tbody tr th:only-of-type {\n",
       "        vertical-align: middle;\n",
       "    }\n",
       "\n",
       "    .dataframe tbody tr th {\n",
       "        vertical-align: top;\n",
       "    }\n",
       "\n",
       "    .dataframe thead th {\n",
       "        text-align: right;\n",
       "    }\n",
       "</style>\n",
       "<table border=\"1\" class=\"dataframe\">\n",
       "  <thead>\n",
       "    <tr style=\"text-align: right;\">\n",
       "      <th></th>\n",
       "      <th>Cat</th>\n",
       "      <th>Gender</th>\n",
       "      <th>Time</th>\n",
       "    </tr>\n",
       "  </thead>\n",
       "  <tbody>\n",
       "    <tr>\n",
       "      <th>0</th>\n",
       "      <td>old</td>\n",
       "      <td>M</td>\n",
       "      <td>1156</td>\n",
       "    </tr>\n",
       "    <tr>\n",
       "      <th>1</th>\n",
       "      <td>old</td>\n",
       "      <td>M</td>\n",
       "      <td>1165</td>\n",
       "    </tr>\n",
       "    <tr>\n",
       "      <th>2</th>\n",
       "      <td>old</td>\n",
       "      <td>M</td>\n",
       "      <td>1166</td>\n",
       "    </tr>\n",
       "    <tr>\n",
       "      <th>3</th>\n",
       "      <td>old</td>\n",
       "      <td>M</td>\n",
       "      <td>1172</td>\n",
       "    </tr>\n",
       "    <tr>\n",
       "      <th>4</th>\n",
       "      <td>old</td>\n",
       "      <td>M</td>\n",
       "      <td>1185</td>\n",
       "    </tr>\n",
       "  </tbody>\n",
       "</table>\n",
       "</div>"
      ],
      "text/plain": [
       "   Cat Gender  Time\n",
       "0  old      M  1156\n",
       "1  old      M  1165\n",
       "2  old      M  1166\n",
       "3  old      M  1172\n",
       "4  old      M  1185"
      ]
     },
     "execution_count": 84,
     "metadata": {},
     "output_type": "execute_result"
    }
   ],
   "source": [
    "ecourse = pd.read_csv(\"Historic_Times.csv\")\n",
    "\n",
    "ecourse_fall2021 = ecourse[ecourse['Cat']=='new'][ecourse['Time'] < 5000]\n",
    "\n",
    "ecourse.head()"
   ]
  },
  {
   "cell_type": "code",
   "execution_count": 85,
   "metadata": {},
   "outputs": [
    {
     "data": {
      "text/html": [
       "<div>\n",
       "<style scoped>\n",
       "    .dataframe tbody tr th:only-of-type {\n",
       "        vertical-align: middle;\n",
       "    }\n",
       "\n",
       "    .dataframe tbody tr th {\n",
       "        vertical-align: top;\n",
       "    }\n",
       "\n",
       "    .dataframe thead th {\n",
       "        text-align: right;\n",
       "    }\n",
       "</style>\n",
       "<table border=\"1\" class=\"dataframe\">\n",
       "  <thead>\n",
       "    <tr style=\"text-align: right;\">\n",
       "      <th></th>\n",
       "      <th></th>\n",
       "      <th>Time</th>\n",
       "    </tr>\n",
       "    <tr>\n",
       "      <th>Cat</th>\n",
       "      <th>Gender</th>\n",
       "      <th></th>\n",
       "    </tr>\n",
       "  </thead>\n",
       "  <tbody>\n",
       "    <tr>\n",
       "      <th rowspan=\"2\" valign=\"top\">new</th>\n",
       "      <th>F</th>\n",
       "      <td>16</td>\n",
       "    </tr>\n",
       "    <tr>\n",
       "      <th>M</th>\n",
       "      <td>180</td>\n",
       "    </tr>\n",
       "    <tr>\n",
       "      <th rowspan=\"2\" valign=\"top\">old</th>\n",
       "      <th>F</th>\n",
       "      <td>105</td>\n",
       "    </tr>\n",
       "    <tr>\n",
       "      <th>M</th>\n",
       "      <td>721</td>\n",
       "    </tr>\n",
       "  </tbody>\n",
       "</table>\n",
       "</div>"
      ],
      "text/plain": [
       "            Time\n",
       "Cat Gender      \n",
       "new F         16\n",
       "    M        180\n",
       "old F        105\n",
       "    M        721"
      ]
     },
     "execution_count": 85,
     "metadata": {},
     "output_type": "execute_result"
    }
   ],
   "source": [
    "ecourse.groupby(['Cat','Gender']).count()"
   ]
  },
  {
   "cell_type": "markdown",
   "metadata": {},
   "source": [
    "# Male Normality Check"
   ]
  },
  {
   "cell_type": "code",
   "execution_count": 86,
   "metadata": {},
   "outputs": [
    {
     "name": "stdout",
     "output_type": "stream",
     "text": [
      "901\n"
     ]
    },
    {
     "data": {
      "text/plain": [
       "ShapiroResult(statistic=0.9578097462654114, pvalue=1.9681822733825637e-15)"
      ]
     },
     "execution_count": 86,
     "metadata": {},
     "output_type": "execute_result"
    }
   ],
   "source": [
    "male_times = ecourse[ecourse['Gender']=='M']['Time']\n",
    "print(len((male_times)))\n",
    "male_mean = np.mean(male_times)\n",
    "male_sd = np.std(male_times)\n",
    "\n",
    "shapiro_test = stats.shapiro(male_times)\n",
    "shapiro_test # assume normality"
   ]
  },
  {
   "cell_type": "code",
   "execution_count": 87,
   "metadata": {},
   "outputs": [
    {
     "data": {
      "image/png": "[encoded data removed]",
      "text/plain": [
       "<Figure size 432x288 with 1 Axes>"
      ]
     },
     "metadata": {},
     "output_type": "display_data"
    }
   ],
   "source": [
    "ax = sns.histplot(data=ecourse[ecourse['Cat']=='old'][ecourse['Gender']=='M'], x=\"Time\", color=\"skyblue\", label=\"Historic\", kde=False, bins=30)\n",
    "sns.histplot(data=ecourse[ecourse['Cat']=='new'][ecourse['Gender']=='M'], x=\"Time\", color=\"red\", label=\"Fall 2021\", kde=False, alpha=.7, bins=30\n",
    "    )\n",
    "ax.set(title='Distribution of ECourse Times (Male)')\n",
    "plt.xlabel('Time (seconds)')\n",
    "plt.legend() \n",
    "plt.show()"
   ]
  },
  {
   "cell_type": "code",
   "execution_count": 88,
   "metadata": {},
   "outputs": [
    {
     "ename": "NameError",
     "evalue": "name 'male_time_hist_std' is not defined",
     "output_type": "error",
     "traceback": [
      "\u001b[1;31m---------------------------------------------------------------------------\u001b[0m",
      "\u001b[1;31mNameError\u001b[0m                                 Traceback (most recent call last)",
      "\u001b[1;32m~\\AppData\\Local\\Temp/ipykernel_4620/609812707.py\u001b[0m in \u001b[0;36m<module>\u001b[1;34m\u001b[0m\n\u001b[0;32m      7\u001b[0m \u001b[1;33m\u001b[0m\u001b[0m\n\u001b[0;32m      8\u001b[0m \u001b[0mmale_time_mean_overall\u001b[0m \u001b[1;33m=\u001b[0m \u001b[0mnp\u001b[0m\u001b[1;33m.\u001b[0m\u001b[0mmean\u001b[0m\u001b[1;33m(\u001b[0m\u001b[0mecourse\u001b[0m\u001b[1;33m[\u001b[0m\u001b[0mecourse\u001b[0m\u001b[1;33m[\u001b[0m\u001b[1;34m'Gender'\u001b[0m\u001b[1;33m]\u001b[0m\u001b[1;33m==\u001b[0m\u001b[1;34m'M'\u001b[0m\u001b[1;33m]\u001b[0m\u001b[1;33m[\u001b[0m\u001b[1;34m'Time'\u001b[0m\u001b[1;33m]\u001b[0m\u001b[1;33m)\u001b[0m\u001b[1;33m\u001b[0m\u001b[1;33m\u001b[0m\u001b[0m\n\u001b[1;32m----> 9\u001b[1;33m print(male_time_hist_mean, male_time_hist_std, \n\u001b[0m\u001b[0;32m     10\u001b[0m       \u001b[0mmale_time_2021_mean\u001b[0m\u001b[1;33m,\u001b[0m \u001b[0mmale_time_2021_std\u001b[0m\u001b[1;33m,\u001b[0m\u001b[1;33m\u001b[0m\u001b[1;33m\u001b[0m\u001b[0m\n\u001b[0;32m     11\u001b[0m      male_time_mean_overall)\n",
      "\u001b[1;31mNameError\u001b[0m: name 'male_time_hist_std' is not defined"
     ]
    }
   ],
   "source": [
    "male_time_hist = ecourse[ecourse['Cat']=='old'][ecourse['Gender']=='M']['Time']\n",
    "male_time_hist_mean = np.mean(male_time_hist)\n",
    "male_time_hist_var = np.var(male_time_hist)\n",
    "male_time_2021 = ecourse[ecourse['Cat']=='new'][ecourse['Gender']=='M']['Time']\n",
    "male_time_2021_mean = np.mean(male_time_2021)\n",
    "male_time_2021_var = np.var(male_time_2021)\n",
    "\n",
    "male_time_mean_overall = np.mean(ecourse[ecourse['Gender']=='M']['Time'])\n",
    "print(male_time_hist_mean, male_time_hist_std, \n",
    "      male_time_2021_mean, male_time_2021_std,\n",
    "     male_time_mean_overall)\n",
    "\n",
    "\n",
    "SSB = (len(male_time_hist)*(male_time_mean_overall - male_time_hist_mean)**2 + \n",
    "       len(male_time_2021)*(male_time_mean_overall - male_time_2021_mean)**2)\n",
    "print(SSB)\n",
    "\n",
    "SSW = len(male_time_hist)*male_time_hist_var + len(male_time_2021)*male_time_2021_var\n",
    "print(SSW)\n",
    "\n",
    "dogb = 2-1\n",
    "dogw = len(male_time_hist)+len(male_time_2021)-2\n",
    "\n",
    "MSB = SSB/dogb\n",
    "MSW = SSW/dogw\n",
    "F_stat = MSB/MSW\n",
    "print(F_stat)\n",
    "\n",
    "p = 1-scipy.stats.f.cdf(F_stat, dogb, dogw)\n",
    "\n",
    "print(p)"
   ]
  },
  {
   "cell_type": "markdown",
   "metadata": {},
   "source": [
    "### Male Scoring"
   ]
  },
  {
   "cell_type": "code",
   "execution_count": null,
   "metadata": {},
   "outputs": [],
   "source": [
    "np.arange(10,92, 2)"
   ]
  },
  {
   "cell_type": "code",
   "execution_count": 89,
   "metadata": {},
   "outputs": [
    {
     "name": "stdout",
     "output_type": "stream",
     "text": [
      "1447.7935627081022\n",
      "189.47262987681023\n"
     ]
    },
    {
     "data": {
      "text/plain": [
       "12.075"
      ]
     },
     "execution_count": 89,
     "metadata": {},
     "output_type": "execute_result"
    }
   ],
   "source": [
    "print(male_mean)\n",
    "print(male_sd)\n",
    "\n",
    "male_time_hist = ecourse[ecourse['Cat']=='old'][ecourse['Gender']=='M']['Time']\n",
    "male_time_2021 = ecourse[ecourse['Cat']=='new'][ecourse['Gender']=='M']['Time']\n",
    "\n",
    "\n",
    "p_diff = []\n",
    "p1 = stats.scoreatpercentile(male_time_hist,10)\n",
    "for p in np.arange(12,92, 2):\n",
    "    if p>=12:\n",
    "        p_diff.append(stats.scoreatpercentile(male_time_hist,p) - p1)\n",
    "        p1 = stats.scoreatpercentile(male_time_hist, p)\n",
    "              \n",
    "np.mean(p_diff)     "
   ]
  },
  {
   "cell_type": "code",
   "execution_count": 90,
   "metadata": {},
   "outputs": [
    {
     "name": "stdout",
     "output_type": "stream",
     "text": [
      "1447.7935627081022\n",
      "189.47262987681023\n",
      "44.0\n",
      "38.0\n",
      "23.0\n",
      "28.0\n",
      "25.0\n",
      "19.0\n",
      "20.0\n",
      "19.0\n",
      "19.0\n",
      "26.0\n",
      "19.0\n",
      "24.0\n",
      "29.0\n",
      "44.0\n",
      "43.0\n",
      "45.0\n",
      "62.0\n",
      "1231.0 1320.0 1422.0 1714.0\n",
      "10.0625\n"
     ]
    },
    {
     "data": {
      "text/plain": [
       "23.7"
      ]
     },
     "execution_count": 90,
     "metadata": {},
     "output_type": "execute_result"
    }
   ],
   "source": [
    "print(male_mean)\n",
    "print(male_sd)\n",
    "\n",
    "male_time_hist = ecourse[ecourse['Cat']=='old'][ecourse['Gender']=='M']['Time']\n",
    "male_time_2021 = ecourse[ecourse['Cat']=='new'][ecourse['Gender']=='M']['Time']\n",
    "\n",
    "p5 = stats.scoreatpercentile(male_time_hist, 5)\n",
    "p10 = stats.scoreatpercentile(male_time_hist, 10)\n",
    "p15 = stats.scoreatpercentile(male_time_hist, 15)\n",
    "p20 = stats.scoreatpercentile(male_time_hist, 20)\n",
    "p25 = stats.scoreatpercentile(male_time_hist, 25)\n",
    "p30 = stats.scoreatpercentile(male_time_hist, 30)\n",
    "p35 = stats.scoreatpercentile(male_time_hist, 35)\n",
    "p40 = stats.scoreatpercentile(male_time_hist, 40)\n",
    "p45 = stats.scoreatpercentile(male_time_hist, 45)\n",
    "p50 = stats.scoreatpercentile(male_time_hist, 50)\n",
    "p55 = stats.scoreatpercentile(male_time_hist, 55)\n",
    "p60 = stats.scoreatpercentile(male_time_hist, 60)\n",
    "p65 = stats.scoreatpercentile(male_time_hist, 65)\n",
    "p70 = stats.scoreatpercentile(male_time_hist, 70)\n",
    "p75 = stats.scoreatpercentile(male_time_hist, 75)\n",
    "p80 = stats.scoreatpercentile(male_time_hist, 80)\n",
    "p85 = stats.scoreatpercentile(male_time_hist, 85)\n",
    "p90 = stats.scoreatpercentile(male_time_hist, 90)\n",
    "\n",
    "p_list = [p5, p10, p15, p20, p25, p30, p35, p40, p45, p50, p55, p60, p65, p70, p75, p80, p85, p90]\n",
    "\n",
    "p_diff = []\n",
    "for p in np.arange(0,len(p_list)):\n",
    "    if p>=1:\n",
    "        print(p_list[p]-p_list[p-1])\n",
    "        p_diff.append(p_list[p]-p_list[p-1])\n",
    "    elif p>len(p_list):\n",
    "        break\n",
    "        \n",
    "print(p10, p25, p50, p90)\n",
    "print(np.mean(p_diff[1:18])/3)\n",
    "p50/60"
   ]
  },
  {
   "cell_type": "code",
   "execution_count": 91,
   "metadata": {},
   "outputs": [
    {
     "data": {
      "text/plain": [
       "33.6"
      ]
     },
     "execution_count": 91,
     "metadata": {},
     "output_type": "execute_result"
    }
   ],
   "source": [
    ".56*60"
   ]
  },
  {
   "cell_type": "code",
   "execution_count": 110,
   "metadata": {},
   "outputs": [],
   "source": [
    "max_score = 20*60+30 # 21 minutes\n",
    "dec  = 10        # 10 seconds\n",
    "min_score = 28*60+30 # 28 minutes\n",
    "(max_score-min_score)/dec\n",
    "\n",
    "score_df = pd.DataFrame(columns=['Score (%)', 'Time (male)'])\n",
    "\n",
    "score_list = [100]\n",
    "time_list = [max_score]\n",
    "flag=True\n",
    "counter = 0\n",
    "\n",
    "while flag:\n",
    "\n",
    "    time_list.append(time_list[counter]+dec)\n",
    "    score_list.append(score_list[counter]-1)\n",
    "    \n",
    "    if score_list[counter]<=61:\n",
    "        flag = False\n",
    "    counter+=1\n",
    "score_df['Time (male)'] = time_list\n",
    "score_df['Score (%)'] = score_list\n",
    "\n",
    "time = []\n",
    "for index, row in score_df.iterrows():\n",
    "    minute = np.round(np.floor(row['Time (male)']/60),0)\n",
    "    seconds = np.mod(row['Time (male)'], 60)\n",
    "    time.append(f\"{minute:.0f}:{seconds:.0f}\")\n",
    "    \n",
    "score_df['Time (male)'] = time"
   ]
  },
  {
   "cell_type": "markdown",
   "metadata": {},
   "source": [
    "# Female Normality Check"
   ]
  },
  {
   "cell_type": "code",
   "execution_count": 111,
   "metadata": {},
   "outputs": [
    {
     "name": "stdout",
     "output_type": "stream",
     "text": [
      "121\n"
     ]
    },
    {
     "data": {
      "text/plain": [
       "ShapiroResult(statistic=0.9763303399085999, pvalue=0.031389933079481125)"
      ]
     },
     "execution_count": 111,
     "metadata": {},
     "output_type": "execute_result"
    }
   ],
   "source": [
    "female_times = ecourse[ecourse['Gender']=='F']['Time']\n",
    "print(len((female_times)))\n",
    "female_mean = np.mean(female_times)\n",
    "female_sd = np.std(female_times)\n",
    "\n",
    "shapiro_test = stats.shapiro(female_times)\n",
    "shapiro_test # assume normality"
   ]
  },
  {
   "cell_type": "code",
   "execution_count": 112,
   "metadata": {},
   "outputs": [
    {
     "data": {
      "image/png": "[encoded data removed]",
      "text/plain": [
       "<Figure size 432x288 with 1 Axes>"
      ]
     },
     "metadata": {},
     "output_type": "display_data"
    }
   ],
   "source": [
    "ax = sns.histplot(data=ecourse[ecourse['Cat']=='old'][ecourse['Gender']=='F'], x=\"Time\", color=\"skyblue\", label=\"Historic\", kde=False, bins=30)\n",
    "sns.histplot(data=ecourse[ecourse['Cat']=='new'][ecourse['Gender']=='F'], x=\"Time\", color=\"red\", label=\"Fall 2021\", kde=False, alpha=.7, bins=30\n",
    "    )\n",
    "ax.set(title='Distribution of ECourse Times (Female)')\n",
    "plt.xlabel('Time (seconds)')\n",
    "plt.legend() \n",
    "plt.show()"
   ]
  },
  {
   "cell_type": "code",
   "execution_count": 113,
   "metadata": {},
   "outputs": [
    {
     "name": "stdout",
     "output_type": "stream",
     "text": [
      "1748.304761904762 63392.23092970522 1828.0625 111696.18359375 1758.8512396694214\n",
      "88322.13719500172\n",
      "8443323.185119048\n",
      "1.2448101411928854\n",
      "0.26679398738478954\n"
     ]
    }
   ],
   "source": [
    "female_time_hist = ecourse[ecourse['Cat']=='old'][ecourse['Gender']=='F']['Time']\n",
    "female_time_hist_mean = np.mean(female_time_hist)\n",
    "female_time_hist_var = np.var(female_time_hist)\n",
    "female_time_2021 = ecourse[ecourse['Cat']=='new'][ecourse['Gender']=='F']['Time']\n",
    "female_time_2021_mean = np.mean(female_time_2021)\n",
    "female_time_2021_var = np.var(female_time_2021)\n",
    "\n",
    "female_time_mean_overall = np.mean(ecourse[ecourse['Gender']=='F']['Time'])\n",
    "print(female_time_hist_mean, female_time_hist_var, \n",
    "      female_time_2021_mean, female_time_2021_var,\n",
    "     female_time_mean_overall)\n",
    "\n",
    "\n",
    "SSB = (len(female_time_hist)*(female_time_mean_overall - female_time_hist_mean)**2 + \n",
    "       len(female_time_2021)*(female_time_mean_overall - female_time_2021_mean)**2)\n",
    "print(SSB)\n",
    "\n",
    "SSW = len(female_time_hist)*female_time_hist_var + len(female_time_2021)*female_time_2021_var\n",
    "print(SSW)\n",
    "\n",
    "dogb = 2-1\n",
    "dogw = len(female_time_hist)+len(female_time_2021)-2\n",
    "\n",
    "MSB = SSB/dogb\n",
    "MSW = SSW/dogw\n",
    "F_stat = MSB/MSW\n",
    "print(F_stat)\n",
    "\n",
    "p = 1-scipy.stats.f.cdf(F_stat, dogb, dogw)\n",
    "\n",
    "print(p)"
   ]
  },
  {
   "cell_type": "code",
   "execution_count": 114,
   "metadata": {},
   "outputs": [
    {
     "name": "stdout",
     "output_type": "stream",
     "text": [
      "1447.7935627081022\n",
      "189.47262987681023\n"
     ]
    },
    {
     "data": {
      "text/plain": [
       "15.669999999999993"
      ]
     },
     "execution_count": 114,
     "metadata": {},
     "output_type": "execute_result"
    }
   ],
   "source": [
    "print(male_mean)\n",
    "print(male_sd)\n",
    "\n",
    "female_time_hist = ecourse[ecourse['Cat']=='old'][ecourse['Gender']=='F']['Time']\n",
    "female_time_2021 = ecourse[ecourse['Cat']=='new'][ecourse['Gender']=='F']['Time']\n",
    "\n",
    "\n",
    "p_diff = []\n",
    "p1 = stats.scoreatpercentile(female_time_hist,10)\n",
    "for p in np.arange(12,92, 2):\n",
    "    if p>=12:\n",
    "        p_diff.append(stats.scoreatpercentile(female_time_hist,p) - p1)\n",
    "        p1 = stats.scoreatpercentile(female_time_hist, p)\n",
    "              \n",
    "np.mean(p_diff) "
   ]
  },
  {
   "cell_type": "code",
   "execution_count": 115,
   "metadata": {},
   "outputs": [
    {
     "name": "stdout",
     "output_type": "stream",
     "text": [
      "1758.8512396694214\n",
      "265.53618486690254\n",
      "41.0\n",
      "91.0\n",
      "39.0\n",
      "24.59999999999991\n",
      "14.600000000000136\n",
      "36.799999999999955\n",
      "35.79999999999973\n",
      "28.800000000000182\n",
      "41.0\n",
      "56.200000000000045\n",
      "48.600000000000136\n",
      "37.799999999999955\n",
      "18.999999999999773\n",
      "43.40000000000009\n",
      "20.600000000000136\n",
      "51.79999999999973\n",
      "37.799999999999955\n",
      "1414.4 1569.0 1726.0 2041.1999999999998\n",
      "39.17499999999998\n"
     ]
    },
    {
     "data": {
      "text/plain": [
       "23.573333333333334"
      ]
     },
     "execution_count": 115,
     "metadata": {},
     "output_type": "execute_result"
    }
   ],
   "source": [
    "print(female_mean)\n",
    "print(female_sd)\n",
    "\n",
    "female_time_hist = ecourse[ecourse['Cat']=='old'][ecourse['Gender']=='F']['Time']\n",
    "female_time_2021 = ecourse[ecourse['Cat']=='new'][ecourse['Gender']=='F']['Time']\n",
    "\n",
    "p5 = stats.scoreatpercentile(female_time_hist, 5)\n",
    "p10 = stats.scoreatpercentile(female_time_hist, 10)\n",
    "p15 = stats.scoreatpercentile(female_time_hist, 15)\n",
    "p20 = stats.scoreatpercentile(female_time_hist, 20)\n",
    "p25 = stats.scoreatpercentile(female_time_hist, 25)\n",
    "p30 = stats.scoreatpercentile(female_time_hist, 30)\n",
    "p35 = stats.scoreatpercentile(female_time_hist, 35)\n",
    "p40 = stats.scoreatpercentile(female_time_hist, 40)\n",
    "p45 = stats.scoreatpercentile(female_time_hist, 45)\n",
    "p50 = stats.scoreatpercentile(female_time_hist, 50)\n",
    "p55 = stats.scoreatpercentile(female_time_hist, 55)\n",
    "p60 = stats.scoreatpercentile(female_time_hist, 60)\n",
    "p65 = stats.scoreatpercentile(female_time_hist, 65)\n",
    "p70 = stats.scoreatpercentile(female_time_hist, 70)\n",
    "p75 = stats.scoreatpercentile(female_time_hist, 75)\n",
    "p80 = stats.scoreatpercentile(female_time_hist, 80)\n",
    "p85 = stats.scoreatpercentile(female_time_hist, 85)\n",
    "p90 = stats.scoreatpercentile(female_time_hist, 90)\n",
    "\n",
    "p_list = [p5, p10, p15, p20, p25, p30, p35, p40, p45, p50, p55, p60, p65, p70, p75, p80, p85, p90]\n",
    "\n",
    "p_diff = []\n",
    "for p in np.arange(0,len(p_list)):\n",
    "    if p>=1:\n",
    "        print(p_list[p]-p_list[p-1])\n",
    "        p_diff.append(p_list[p]-p_list[p-1])\n",
    "    elif p>len(p_list):\n",
    "        break\n",
    "        \n",
    "\n",
    "        \n",
    "print(p10, p25, p50, p90)\n",
    "print(np.mean(p_diff[1:18]))\n",
    "p10/60"
   ]
  },
  {
   "cell_type": "code",
   "execution_count": 116,
   "metadata": {},
   "outputs": [
    {
     "data": {
      "text/plain": [
       "34.199999999999996"
      ]
     },
     "execution_count": 116,
     "metadata": {},
     "output_type": "execute_result"
    }
   ],
   "source": [
    ".57*60"
   ]
  },
  {
   "cell_type": "code",
   "execution_count": 122,
   "metadata": {},
   "outputs": [],
   "source": [
    "max_score = 23*60+30 # 23:30 minutes\n",
    "dec  = 15        # 10 seconds\n",
    "min_score = 2100 # 34 minutes\n",
    "(max_score-min_score)/dec\n",
    "\n",
    "#score_df = pd.DataFrame(columns=['Score (%)', 'Time (male)'])\n",
    "\n",
    "score_list = [100]\n",
    "time_list = [max_score]\n",
    "flag=True\n",
    "counter = 0\n",
    "\n",
    "while flag:\n",
    "\n",
    "    time_list.append(time_list[counter]+dec)\n",
    "    score_list.append(score_list[counter]-1)\n",
    "    \n",
    "    if score_list[counter]<=61:\n",
    "        flag = False\n",
    "    counter+=1\n",
    "score_df['Time (female)'] = time_list\n",
    "score_df['Score (%)'] = score_list\n",
    "\n",
    "time = []\n",
    "for index, row in score_df.iterrows():\n",
    "    minute = np.round(np.floor(row['Time (female)']/60),0)\n",
    "    seconds = np.mod(row['Time (female)'], 60)\n",
    "    time.append(str(f\"{minute:.0f}:{seconds:.0f}\"))\n",
    "    \n",
    "score_df['Time (female)'] = time"
   ]
  },
  {
   "cell_type": "code",
   "execution_count": 128,
   "metadata": {},
   "outputs": [],
   "source": [
    "score_df.head(50)\n",
    "score_df.to_csv('Ecourse_Table.csv', date_format='str')"
   ]
  },
  {
   "cell_type": "code",
   "execution_count": 124,
   "metadata": {},
   "outputs": [],
   "source": [
    "score_df.to_csv?"
   ]
  },
  {
   "cell_type": "code",
   "execution_count": 48,
   "metadata": {},
   "outputs": [
    {
     "name": "stdout",
     "output_type": "stream",
     "text": [
      "101\n",
      "721\n",
      "0.14008321775312066\n",
      "129\n",
      "721\n",
      "0.17891816920943135\n"
     ]
    }
   ],
   "source": [
    "print(len(ecourse[ecourse['Cat']=='old'][ecourse['Gender']=='M']['Time'][ecourse['Time']<=21*60]))\n",
    "print(len(male_time_hist))\n",
    "print(len(ecourse[ecourse['Cat']=='old'][ecourse['Gender']=='M']['Time'][ecourse['Time']<=21*60])/len(male_time_hist))\n",
    "\n",
    "print(len(ecourse[ecourse['Cat']=='old'][ecourse['Gender']=='M']['Time'][ecourse['Time']>27*60+10]))\n",
    "print(len(male_time_hist))\n",
    "print(len(ecourse[ecourse['Cat']=='old'][ecourse['Gender']=='M']['Time'][ecourse['Time']>27*60+10])/len(male_time_hist))"
   ]
  },
  {
   "cell_type": "code",
   "execution_count": 49,
   "metadata": {},
   "outputs": [
    {
     "name": "stdout",
     "output_type": "stream",
     "text": [
      "16\n",
      "105\n",
      "0.1523809523809524\n",
      "14\n",
      "105\n",
      "0.13333333333333333\n"
     ]
    }
   ],
   "source": [
    "print(len(ecourse[ecourse['Cat']=='old'][ecourse['Gender']=='F']['Time'][ecourse['Time']<=25*60]))\n",
    "print(len(female_time_hist))\n",
    "print(len(ecourse[ecourse['Cat']=='old'][ecourse['Gender']=='F']['Time'][ecourse['Time']<=25*60])/len(female_time_hist))\n",
    "\n",
    "print(len(ecourse[ecourse['Cat']=='old'][ecourse['Gender']=='F']['Time'][ecourse['Time']>33*60+30]))\n",
    "print(len(female_time_hist))\n",
    "print(len(ecourse[ecourse['Cat']=='old'][ecourse['Gender']=='F']['Time'][ecourse['Time']>33*60+30])/len(female_time_hist))"
   ]
  },
  {
   "cell_type": "markdown",
   "metadata": {},
   "source": [
    "## Score the Results"
   ]
  },
  {
   "cell_type": "code",
   "execution_count": 50,
   "metadata": {},
   "outputs": [],
   "source": [
    "male_times = ecourse[ecourse['Cat']=='new'][ecourse['Gender']=='M']['Time']\n",
    "#male_times = np.random.choice(list(male_times),replace = True, size = 721)\n",
    "\n",
    "male_df = pd.DataFrame(columns=['Score (%)', 'Time (male)'])\n",
    "male_scores = []\n",
    "male_t = []\n",
    "for t in male_times:\n",
    "    for index, row in score_df.iterrows():\n",
    "        minutes = int(str(row['Time (male)'][0]+row['Time (male)'][1]))\n",
    "        try: \n",
    "            seconds =  int(str(row['Time (male)'][3]+row['Time (male)'][4]))\n",
    "        except: \n",
    "            seconds = int(str(row['Time (male)'][3]))\n",
    "\n",
    "        if t > (minutes*60+seconds):\n",
    "            score = row['Score (%)']\n",
    "        else:\n",
    "            break\n",
    "    male_t.append(t)\n",
    "    male_scores.append(score)\n",
    "\n",
    "male_df['Score (%)'] = male_scores\n",
    "male_df['Time (male)'] = male_t\n",
    "\n",
    "male_df_new = male_df"
   ]
  },
  {
   "cell_type": "code",
   "execution_count": 51,
   "metadata": {},
   "outputs": [
    {
     "name": "stdout",
     "output_type": "stream",
     "text": [
      "0.24444444444444444\n",
      "0.12777777777777777\n"
     ]
    }
   ],
   "source": [
    "print(len(male_df[male_df['Score (%)']>90])/len(male_df['Score (%)']))  #shooting for 20%\n",
    "\n",
    "print(len(male_df[male_df['Score (%)']<=60])/len(male_df['Score (%)']))"
   ]
  },
  {
   "cell_type": "code",
   "execution_count": 52,
   "metadata": {},
   "outputs": [
    {
     "name": "stdout",
     "output_type": "stream",
     "text": [
      "95.1 81.0 57.7\n"
     ]
    }
   ],
   "source": [
    "p90 = stats.scoreatpercentile(male_df['Score (%)'], 90)\n",
    "p50 = stats.scoreatpercentile(male_df['Score (%)'], 50)\n",
    "p10 = stats.scoreatpercentile(male_df['Score (%)'], 10)\n",
    "print(p90, p50, p10)"
   ]
  },
  {
   "cell_type": "code",
   "execution_count": 53,
   "metadata": {},
   "outputs": [],
   "source": [
    "female_times= ecourse[ecourse['Cat']=='new'][ecourse['Gender']=='F'][ecourse['Time']<2700]['Time']\n",
    "#female_times = np.random.choice(list(female_times),replace = True, size = 105)\n",
    "female_df = pd.DataFrame(columns=['Score (%)', 'Time (female)'])\n",
    "female_scores = []\n",
    "female_t = []\n",
    "for t in female_times:\n",
    "    for index, row in score_df.iterrows():\n",
    "        minutes = int(str(row['Time (female)'][0]+row['Time (female)'][1]))\n",
    "        try: \n",
    "            seconds =  int(str(row['Time (female)'][3]+row['Time (female)'][4]))\n",
    "        except: \n",
    "            seconds = int(str(row['Time (female)'][3]))\n",
    "\n",
    "        if t > (minutes*60+seconds):\n",
    "            score = row['Score (%)']\n",
    "        else:\n",
    "            break\n",
    "    female_t.append(t)\n",
    "    female_scores.append(score)\n",
    "\n",
    "female_df['Score (%)'] = female_scores\n",
    "female_df['Time (female)'] = female_t\n",
    "\n",
    "female_df_new = female_df"
   ]
  },
  {
   "cell_type": "code",
   "execution_count": 54,
   "metadata": {},
   "outputs": [
    {
     "name": "stdout",
     "output_type": "stream",
     "text": [
      "0.06666666666666667\n",
      "0.13333333333333333\n"
     ]
    }
   ],
   "source": [
    "print(len(female_df[female_df['Score (%)']>90])/len(female_df['Score (%)']))  #shooting for 20%\n",
    "\n",
    "print(len(female_df[female_df['Score (%)']<=60])/len(female_df['Score (%)']))"
   ]
  },
  {
   "cell_type": "code",
   "execution_count": 55,
   "metadata": {},
   "outputs": [
    {
     "name": "stdout",
     "output_type": "stream",
     "text": [
      "87.80000000000001 76.0 59.0\n"
     ]
    }
   ],
   "source": [
    "p90 = stats.scoreatpercentile(female_df['Score (%)'], 90)\n",
    "p50 = stats.scoreatpercentile(female_df['Score (%)'], 50)\n",
    "p10 = stats.scoreatpercentile(female_df['Score (%)'], 10)\n",
    "print(p90, p50, p10)"
   ]
  },
  {
   "cell_type": "markdown",
   "metadata": {},
   "source": [
    "# Score Historic and Compare"
   ]
  },
  {
   "cell_type": "code",
   "execution_count": 56,
   "metadata": {},
   "outputs": [
    {
     "name": "stdout",
     "output_type": "stream",
     "text": [
      "95.0 79.0 52.0\n",
      "0.20249653259361997\n",
      "0.18030513176144244\n"
     ]
    }
   ],
   "source": [
    "male_times = ecourse[ecourse['Cat']=='old'][ecourse['Gender']=='M']['Time']\n",
    "\n",
    "male_df = pd.DataFrame(columns=['Score (%)', 'Time (male)'])\n",
    "male_scores = []\n",
    "male_t = []\n",
    "for t in male_times:\n",
    "    for index, row in score_df.iterrows():\n",
    "        minutes = int(str(row['Time (male)'][0]+row['Time (male)'][1]))\n",
    "        try: \n",
    "            seconds =  int(str(row['Time (male)'][3]+row['Time (male)'][4]))\n",
    "        except: \n",
    "            seconds = int(str(row['Time (male)'][3]))\n",
    "\n",
    "        if t > (minutes*60+seconds):\n",
    "            score = row['Score (%)']\n",
    "        else:\n",
    "            break\n",
    "    male_t.append(t)\n",
    "    male_scores.append(score)\n",
    "\n",
    "male_df['Score (%)'] = male_scores\n",
    "male_df['Time (male)'] = male_t\n",
    "\n",
    "male_df.head()\n",
    "\n",
    "p90 = stats.scoreatpercentile(male_df['Score (%)'], 90)\n",
    "p50 = stats.scoreatpercentile(male_df['Score (%)'], 50)\n",
    "p10 = stats.scoreatpercentile(male_df['Score (%)'], 10)\n",
    "print(p90, p50, p10)\n",
    "\n",
    "print(len(male_df[male_df['Score (%)']>90])/len(male_df['Score (%)']))  #shooting for 20%\n",
    "\n",
    "print(len(male_df[male_df['Score (%)']<=60])/len(male_df['Score (%)']))"
   ]
  },
  {
   "cell_type": "code",
   "execution_count": 57,
   "metadata": {},
   "outputs": [
    {
     "name": "stdout",
     "output_type": "stream",
     "text": [
      "92.0 78.0 51.8\n",
      "0.1619047619047619\n",
      "0.1619047619047619\n"
     ]
    }
   ],
   "source": [
    "female_times= ecourse[ecourse['Cat']=='old'][ecourse['Gender']=='F']['Time']\n",
    "\n",
    "female_df = pd.DataFrame(columns=['Score (%)', 'Time (female)'])\n",
    "female_scores = []\n",
    "female_t = []\n",
    "for t in female_times:\n",
    "    for index, row in score_df.iterrows():\n",
    "        minutes = int(str(row['Time (female)'][0]+row['Time (female)'][1]))\n",
    "        try: \n",
    "            seconds =  int(str(row['Time (female)'][3]+row['Time (female)'][4]))\n",
    "        except: \n",
    "            seconds = int(str(row['Time (female)'][3]))\n",
    "\n",
    "        if t > (minutes*60+seconds):\n",
    "            score = row['Score (%)']\n",
    "        else:\n",
    "            break\n",
    "    female_t.append(t)\n",
    "    female_scores.append(score)\n",
    "\n",
    "female_df['Score (%)'] = female_scores\n",
    "female_df['Time (female)'] = female_t\n",
    "\n",
    "female_df.head()\n",
    "\n",
    "p90 = stats.scoreatpercentile(female_df['Score (%)'], 90)\n",
    "p50 = stats.scoreatpercentile(female_df['Score (%)'], 50)\n",
    "p10 = stats.scoreatpercentile(female_df['Score (%)'], 10)\n",
    "print(p90, p50, p10)\n",
    "\n",
    "print(len(female_df[female_df['Score (%)']>90])/len(female_df['Score (%)']))  #shooting for 20%\n",
    "\n",
    "print(len(female_df[female_df['Score (%)']<=60])/len(female_df['Score (%)']))"
   ]
  },
  {
   "cell_type": "code",
   "execution_count": 60,
   "metadata": {},
   "outputs": [
    {
     "data": {
      "text/html": [
       "<div>\n",
       "<style scoped>\n",
       "    .dataframe tbody tr th:only-of-type {\n",
       "        vertical-align: middle;\n",
       "    }\n",
       "\n",
       "    .dataframe tbody tr th {\n",
       "        vertical-align: top;\n",
       "    }\n",
       "\n",
       "    .dataframe thead th {\n",
       "        text-align: right;\n",
       "    }\n",
       "</style>\n",
       "<table border=\"1\" class=\"dataframe\">\n",
       "  <thead>\n",
       "    <tr style=\"text-align: right;\">\n",
       "      <th></th>\n",
       "      <th>Score (%)</th>\n",
       "      <th>Time (female)</th>\n",
       "    </tr>\n",
       "  </thead>\n",
       "  <tbody>\n",
       "    <tr>\n",
       "      <th>0</th>\n",
       "      <td>36</td>\n",
       "      <td>1214</td>\n",
       "    </tr>\n",
       "    <tr>\n",
       "      <th>1</th>\n",
       "      <td>36</td>\n",
       "      <td>1244</td>\n",
       "    </tr>\n",
       "    <tr>\n",
       "      <th>2</th>\n",
       "      <td>36</td>\n",
       "      <td>1393</td>\n",
       "    </tr>\n",
       "    <tr>\n",
       "      <th>3</th>\n",
       "      <td>100</td>\n",
       "      <td>1414</td>\n",
       "    </tr>\n",
       "    <tr>\n",
       "      <th>4</th>\n",
       "      <td>100</td>\n",
       "      <td>1415</td>\n",
       "    </tr>\n",
       "  </tbody>\n",
       "</table>\n",
       "</div>"
      ],
      "text/plain": [
       "   Score (%)  Time (female)\n",
       "0         36           1214\n",
       "1         36           1244\n",
       "2         36           1393\n",
       "3        100           1414\n",
       "4        100           1415"
      ]
     },
     "execution_count": 60,
     "metadata": {},
     "output_type": "execute_result"
    }
   ],
   "source": [
    "female_df.head()"
   ]
  },
  {
   "cell_type": "code",
   "execution_count": 72,
   "metadata": {},
   "outputs": [
    {
     "data": {
      "image/png": "[encoded data removed]",
      "text/plain": [
       "<Figure size 432x288 with 1 Axes>"
      ]
     },
     "metadata": {},
     "output_type": "display_data"
    }
   ],
   "source": [
    "ax = sns.histplot(data=male_df, x=\"Score (%)\", color=\"skyblue\", label=\"Historic\", kde=False, bins=30)\n",
    "sns.histplot(data=male_df_new, x=\"Score (%)\", color=\"red\", label=\"Fall 2021\", kde=False, alpha=.7, bins=30)\n",
    "ax.set(title='Distribution of ECourse Scores (male)')\n",
    "plt.xlabel('Score (%)')\n",
    "plt.legend() \n",
    "plt.show()"
   ]
  },
  {
   "cell_type": "code",
   "execution_count": 71,
   "metadata": {},
   "outputs": [
    {
     "data": {
      "image/png": "[encoded data removed]",
      "text/plain": [
       "<Figure size 432x288 with 1 Axes>"
      ]
     },
     "metadata": {},
     "output_type": "display_data"
    }
   ],
   "source": [
    "ax = sns.histplot(data=female_df, x=\"Score (%)\", color=\"skyblue\", label=\"Historic\", kde=False, bins=30)\n",
    "sns.histplot(data=female_df_new, x=\"Score (%)\", color=\"red\", label=\"Fall 2021\", kde=False, alpha=.7, bins=30)\n",
    "ax.set(title='Distribution of ECourse Scores (Female)')\n",
    "plt.xlabel('Score (%)')\n",
    "plt.legend() \n",
    "plt.show()"
   ]
  },
  {
   "cell_type": "code",
   "execution_count": 80,
   "metadata": {},
   "outputs": [
    {
     "name": "stdout",
     "output_type": "stream",
     "text": [
      "3.7874866335775345e-08\n"
     ]
    },
    {
     "data": {
      "text/plain": [
       "6.256980338284763e-08"
      ]
     },
     "execution_count": 80,
     "metadata": {},
     "output_type": "execute_result"
    }
   ],
   "source": [
    "m = ecourse[ecourse['Gender']=='M']['Time']\n",
    "m_var = np.var(m)\n",
    "\n",
    "f = ecourse[ecourse['Gender']=='F']['Time']\n",
    "f_var = np.var(f)\n",
    "\n",
    "F = m_var / f_var\n",
    "alpha = 0.05 #Or whatever you want your alpha to be.\n",
    "df1 = len(m) - 1\n",
    "df2 = len(f) - 1\n",
    "p_value = scipy.stats.f.cdf(F, df1, df2)\n",
    "print(p_value)\n",
    "\n",
    "from scipy.stats import levene\n",
    "stat, p = levene(m, f)\n",
    "p\n",
    "\n"
   ]
  },
  {
   "cell_type": "code",
   "execution_count": 78,
   "metadata": {},
   "outputs": [],
   "source": [
    "scipy.stats.f.cdf?"
   ]
  },
  {
   "cell_type": "code",
   "execution_count": null,
   "metadata": {},
   "outputs": [],
   "source": [
    "fstatistics = np.var(a, ddof=1)/np.var(b, ddof=1) # because we estimate mean from data\n",
    "fdistribution = stats.f(len(a)-1,len(b)-1) # build an F-distribution object\n",
    "p_value = 2*min(fdistribution.cdf(f_critical), 1-fdistribution.cdf(f_critical))\n",
    "f_critical1 = fdistribution.ppf(0.025)\n",
    "f_critical2 = fdistribution.ppf(0.975)\n",
    "print(fstatistics,f_critical1, f_critical2 )\n"
   ]
  }
 ],
 "metadata": {
  "kernelspec": {
   "display_name": "Python 3 (ipykernel)",
   "language": "python",
   "name": "python3"
  },
  "language_info": {
   "codemirror_mode": {
    "name": "ipython",
    "version": 3
   },
   "file_extension": ".py",
   "mimetype": "text/x-python",
   "name": "python",
   "nbconvert_exporter": "python",
   "pygments_lexer": "ipython3",
   "version": "3.8.12"
  }
 },
 "nbformat": 4,
 "nbformat_minor": 2
}
